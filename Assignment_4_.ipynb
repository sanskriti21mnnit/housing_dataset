{
  "nbformat": 4,
  "nbformat_minor": 0,
  "metadata": {
    "colab": {
      "name": "Assignment 4 .ipynb",
      "provenance": []
    },
    "kernelspec": {
      "name": "python3",
      "display_name": "Python 3"
    },
    "language_info": {
      "name": "python"
    }
  },
  "cells": [
    {
      "cell_type": "code",
      "metadata": {
        "id": "OrW1T0wJ1_JT"
      },
      "source": [
        "import numpy as np\n",
        "\n",
        "from sklearn.linear_model import LinearRegression"
      ],
      "execution_count": null,
      "outputs": []
    },
    {
      "cell_type": "code",
      "metadata": {
        "id": "xdBSJZbT22rL"
      },
      "source": [
        "x= np.array([7420,8960,9960,7500,7420,7500,8580,16200,8100,5750,13200,6000,6550,3500,\n",
        "7800,6000,6600,8500,4600,6420,4320,7155,8050,4560,8800,\n",
        "6540,6000,8875,7950,5500,7475,7000,4880,5960,6840,7000,7482,9000,\n",
        "6000,6000,6550,6360,6480,6000,6000,6000,6000,6600,4300,\n",
        "7440,7440,6325,6000,5150,6000,6000,11440,9000,7680,6000,6000,8880,6240,6360,\n",
        "11175,8880,13200,7700,6000,12090,4000,6000,5020,6600,4040,4260,6420,6500,5700]).reshape((-1,1))\n",
        "print(x)\n",
        "print(x.shape)"
      ],
      "execution_count": null,
      "outputs": []
    },
    {
      "cell_type": "code",
      "metadata": {
        "id": "T5Iz83YN4HAa"
      },
      "source": [
        "y= np.array([13300000,12250000,12250000,12215000,11410000,10850000,10150000,10150000,9870000,\n",
        "9800000,9800000,9681000,9310000,9240000,9240000,9100000,9100000,8960000,\n",
        "8890000,8855000,8750000,8680000,8645000,8645000,8575000,8540000,\n",
        "8463000,8400000,8400000,8400000,8400000,8400000,8295000,8190000,\n",
        "8120000,8080940,8043000,7980000,7962500,7910000,\n",
        "7875000,7840000,7700000,7700000,7560000,7560000,7525000,7490000,\n",
        "7455000,7420000,7420000,7420000,7350000,7350000,7350000,7350000,\n",
        "7343000,7245000,7210000,7210000,7140000,7070000,7070000,7035000,\n",
        "7000000,6930000,6930000,6895000,6860000,6790000,6790000,6755000,\n",
        "6720000,6685000,6650000,6650000,6650000,6650000,6650000])"
      ],
      "execution_count": null,
      "outputs": []
    },
    {
      "cell_type": "code",
      "metadata": {
        "colab": {
          "base_uri": "https://localhost:8080/"
        },
        "id": "DO-kdx718yQG",
        "outputId": "1f071bc3-a53d-4719-ee72-6866735b2a59"
      },
      "source": [
        "model= LinearRegression()\n",
        "model.fit(x,y)"
      ],
      "execution_count": null,
      "outputs": [
        {
          "output_type": "execute_result",
          "data": {
            "text/plain": [
              "LinearRegression(copy_X=True, fit_intercept=True, n_jobs=None, normalize=False)"
            ]
          },
          "metadata": {
            "tags": []
          },
          "execution_count": 5
        }
      ]
    },
    {
      "cell_type": "code",
      "metadata": {
        "colab": {
          "base_uri": "https://localhost:8080/"
        },
        "id": "_b9sVJu087UE",
        "outputId": "e7c39a7d-f34d-48a0-c80e-3054c8d9425a"
      },
      "source": [
        "R_square= model.score(x,y)\n",
        "print('cofficeint of determination' , R_square)"
      ],
      "execution_count": null,
      "outputs": [
        {
          "output_type": "stream",
          "text": [
            "cofficeint of determination 0.04566809799617888\n"
          ],
          "name": "stdout"
        }
      ]
    },
    {
      "cell_type": "code",
      "metadata": {
        "colab": {
          "base_uri": "https://localhost:8080/"
        },
        "id": "2Kc_xGNf9Pk6",
        "outputId": "e5060d5e-1185-47c0-e724-d65097d41a0e"
      },
      "source": [
        "print('thetha0', model.intercept_)\n",
        "print('thetha1', model.coef_)"
      ],
      "execution_count": null,
      "outputs": [
        {
          "output_type": "stream",
          "text": [
            "thetha0 7226203.127906335\n",
            "thetha1 [142.41991524]\n"
          ],
          "name": "stdout"
        }
      ]
    },
    {
      "cell_type": "code",
      "metadata": {
        "colab": {
          "base_uri": "https://localhost:8080/"
        },
        "id": "DtcSwYjp9pkI",
        "outputId": "7290685b-d5e3-4876-f23b-555a217c5553"
      },
      "source": [
        "y_pred = model.predict(x)\n",
        "print('predicted values', y_pred, sep='/n')"
      ],
      "execution_count": null,
      "outputs": [
        {
          "output_type": "stream",
          "text": [
            "predicted values/n[8282958.89901495 8502285.56849032 8644705.48373407 8294352.49223445\n",
            " 8282958.89901495 8294352.49223445 8448166.00069769 9533405.75485505\n",
            " 8379804.44138069 8045117.64055789 9106146.00912381 8080722.61936882\n",
            " 8159053.57275288 7724672.83125945 8337078.46680757 8080722.61936882\n",
            " 8166174.56851507 8436772.40747819 7881334.73802758 8140538.9837712\n",
            " 7841457.16175933 8245217.62147535 8372683.44561851 7875637.94141783\n",
            " 8479498.38205132 8157629.37360045 8080722.61936882 8490179.8756946\n",
            " 8358441.45409413 8009512.66174695 8290791.99435335 8223142.53461257\n",
            " 7921212.31429582 8075025.82275907 8200355.34817357 8223142.53461257\n",
            " 8291788.93376006 8507982.36510007 8080722.61936882 8080722.61936882\n",
            " 8159053.57275288 8131993.78885657 8149084.17868582 8080722.61936882\n",
            " 8080722.61936882 8080722.61936882 8080722.61936882 8166174.56851507\n",
            " 7838608.76345445 8285807.29731982 8285807.29731982 8127009.09182304\n",
            " 8080722.61936882 7959665.69141164 8080722.61936882 8080722.61936882\n",
            " 8855486.95829481 8507982.36510007 8319988.07697832 8080722.61936882\n",
            " 8080722.61936882 8490891.97527082 8114903.39902732 8131993.78885657\n",
            " 8817745.68075522 8490891.97527082 9106146.00912381 8322836.47528319\n",
            " 8080722.61936882 8948059.90320325 7795882.78888133 8080722.61936882\n",
            " 7941151.10242995 8166174.56851507 7801579.58549108 7832911.9668447\n",
            " 8140538.9837712  8151932.5769907  8037996.6447957 ]\n"
          ],
          "name": "stdout"
        }
      ]
    },
    {
      "cell_type": "code",
      "metadata": {
        "id": "qCFc9snR95Ep"
      },
      "source": [
        "\n"
      ],
      "execution_count": null,
      "outputs": []
    },
    {
      "cell_type": "code",
      "metadata": {
        "id": "PdnbMqzN-FNe"
      },
      "source": [
        ""
      ],
      "execution_count": null,
      "outputs": []
    },
    {
      "cell_type": "code",
      "metadata": {
        "id": "hv0FzZeh-MCb"
      },
      "source": [
        ""
      ],
      "execution_count": null,
      "outputs": []
    },
    {
      "cell_type": "code",
      "metadata": {
        "id": "GUatfBGrGwVR"
      },
      "source": [
        ""
      ],
      "execution_count": null,
      "outputs": []
    }
  ]
}